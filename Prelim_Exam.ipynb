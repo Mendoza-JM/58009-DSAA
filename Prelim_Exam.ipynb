{
  "nbformat": 4,
  "nbformat_minor": 0,
  "metadata": {
    "colab": {
      "provenance": [],
      "authorship_tag": "ABX9TyNimM7Yx65haYjwSVKwyTcs",
      "include_colab_link": true
    },
    "kernelspec": {
      "name": "python3",
      "display_name": "Python 3"
    },
    "language_info": {
      "name": "python"
    }
  },
  "cells": [
    {
      "cell_type": "markdown",
      "metadata": {
        "id": "view-in-github",
        "colab_type": "text"
      },
      "source": [
        "<a href=\"https://colab.research.google.com/github/Mendoza-JM/58009-DSAA/blob/main/Prelim_Exam.ipynb\" target=\"_parent\"><img src=\"https://colab.research.google.com/assets/colab-badge.svg\" alt=\"Open In Colab\"/></a>"
      ]
    },
    {
      "cell_type": "code",
      "source": [
        "#create the source code for adding the test scores 26, 49, 98, 87, 62, 75\n",
        "score = [26,49,98,87,62,75]\n",
        "\n",
        "#Total of the scores\n",
        "total = sum(score)\n",
        "# Sort the test scores in ascending order\n",
        "sort = sorted(score)\n",
        "\n",
        "# Print the sorted scores\n",
        "print(\"Test scores:\", score)\n",
        "print(\"The total of the Test Scores: \", total)\n",
        "print(\"Sorted in ascending order:\", sort)\n"
      ],
      "metadata": {
        "colab": {
          "base_uri": "https://localhost:8080/"
        },
        "id": "gDe-OArM8R_K",
        "outputId": "0173d5e9-a945-4828-98b2-75b647f7d8f5"
      },
      "execution_count": 8,
      "outputs": [
        {
          "output_type": "stream",
          "name": "stdout",
          "text": [
            "Test scores: [26, 49, 98, 87, 62, 75]\n",
            "The total of the Test Scores:  397\n",
            "Sorted in ascending order: [26, 49, 62, 75, 87, 98]\n"
          ]
        }
      ]
    }
  ]
}