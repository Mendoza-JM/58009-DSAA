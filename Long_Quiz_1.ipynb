{
  "nbformat": 4,
  "nbformat_minor": 0,
  "metadata": {
    "colab": {
      "provenance": [],
      "authorship_tag": "ABX9TyMheZTacYjg81L2z2/adgik",
      "include_colab_link": true
    },
    "kernelspec": {
      "name": "python3",
      "display_name": "Python 3"
    },
    "language_info": {
      "name": "python"
    }
  },
  "cells": [
    {
      "cell_type": "markdown",
      "metadata": {
        "id": "view-in-github",
        "colab_type": "text"
      },
      "source": [
        "<a href=\"https://colab.research.google.com/github/Mendoza-JM/58009-DSAA/blob/main/Long_Quiz_1.ipynb\" target=\"_parent\"><img src=\"https://colab.research.google.com/assets/colab-badge.svg\" alt=\"Open In Colab\"/></a>"
      ]
    },
    {
      "cell_type": "code",
      "execution_count": 41,
      "metadata": {
        "colab": {
          "base_uri": "https://localhost:8080/"
        },
        "id": "k05pvgKz4tDW",
        "outputId": "ffc2cd69-98c5-4461-f350-59fc15f5bc98"
      },
      "outputs": [
        {
          "output_type": "stream",
          "name": "stdout",
          "text": [
            "The characters in my name are:  ['J', 'A', 'N', '_ ', 'M', 'A', 'T', 'H', 'E', 'W', '_', 'M', 'E', 'N', 'D', 'O', 'Z', 'A']\n",
            "The characters in my name reversed are:  ['A', 'Z', 'O', 'D', 'N', 'E', 'M', '_', 'W', 'E', 'H', 'T', 'A', 'M', '_ ', 'N', 'A', 'J']\n"
          ]
        }
      ],
      "source": [
        "#Create a python or C++ program that appends each character of your full name\n",
        "#and displays each character in reverse order\n",
        "\n",
        "import array\n",
        "my_name = [\"J\",\"A\",\"N\",\"_ \",\"M\",\"A\",\"T\",\"H\",\"E\",\"W\",\"_\",\"M\",\"E\",\"N\",\"D\",\"O\",\"Z\",\"A\"]\n",
        "print(\"The characters in my name are: \", my_name)\n",
        "my_name.reverse()\n",
        "print(\"The characters in my name reversed are: \", my_name)"
      ]
    },
    {
      "cell_type": "code",
      "source": [
        "#Using the set of positive whole numbers from 1 to 10,\n",
        "#create a python or C++ program that displays if it is prime or composite.\n",
        "\n",
        "num = [1, 2, 3, 4, 5, 6, 7, 8, 9, 10]\n",
        "\n",
        "def primeornot(num):\n",
        "    if num <= 1:\n",
        "        return \"neither\"\n",
        "    elif num <= 3:\n",
        "        return \"prime\"\n",
        "    elif num % 2 == 0 or num % 3 == 0:\n",
        "        return \"composite\"\n",
        "    else:\n",
        "        return \"prime\"\n",
        "\n",
        "for x in num:\n",
        "    result = primeornot(x)\n",
        "    if result == \"prime\":\n",
        "      print(x, \"is prime\")\n",
        "    if result == \"composite\":\n",
        "      print(x, \"is composite\")\n",
        "    if result == \"neither\":\n",
        "      print(x, \"is neither prime nor composite\")\n"
      ],
      "metadata": {
        "colab": {
          "base_uri": "https://localhost:8080/"
        },
        "id": "uNeT3r0wIanj",
        "outputId": "a74c0e79-4ff1-461b-ba0e-a4c147a91b7e"
      },
      "execution_count": 42,
      "outputs": [
        {
          "output_type": "stream",
          "name": "stdout",
          "text": [
            "1 is neither prime nor composite\n",
            "2 is prime\n",
            "3 is prime\n",
            "4 is composite\n",
            "5 is prime\n",
            "6 is composite\n",
            "7 is prime\n",
            "8 is composite\n",
            "9 is composite\n",
            "10 is composite\n"
          ]
        }
      ]
    }
  ]
}