{
  "nbformat": 4,
  "nbformat_minor": 0,
  "metadata": {
    "colab": {
      "provenance": [],
      "authorship_tag": "ABX9TyNXgcyV0Op1Av57Ml2DyW1F",
      "include_colab_link": true
    },
    "kernelspec": {
      "name": "python3",
      "display_name": "Python 3"
    },
    "language_info": {
      "name": "python"
    }
  },
  "cells": [
    {
      "cell_type": "markdown",
      "metadata": {
        "id": "view-in-github",
        "colab_type": "text"
      },
      "source": [
        "<a href=\"https://colab.research.google.com/github/Mendoza-JM/58009-DSAA/blob/main/LinkedLists.ipynb\" target=\"_parent\"><img src=\"https://colab.research.google.com/assets/colab-badge.svg\" alt=\"Open In Colab\"/></a>"
      ]
    },
    {
      "cell_type": "code",
      "source": [
        "#Example 1\n",
        "import array\n",
        "array.typecodes #get all typecodes\n",
        "a = array.array('i',[1,2,3,4,5,6,]) #initializing array a\n",
        "b = array.array('f', [1.5,2.5,3.5,4.5,5.5,6.5]) #initializing array b\n",
        "a.typecode #getting the typecode of a\n",
        "b.typecode #getting the typecode of b"
      ],
      "metadata": {
        "colab": {
          "base_uri": "https://localhost:8080/",
          "height": 35
        },
        "id": "Gq-qOFlx1dKJ",
        "outputId": "dc6512de-8ae9-4f70-8c3a-73a494f37077"
      },
      "execution_count": null,
      "outputs": [
        {
          "output_type": "execute_result",
          "data": {
            "text/plain": [
              "'f'"
            ],
            "application/vnd.google.colaboratory.intrinsic+json": {
              "type": "string"
            }
          },
          "metadata": {},
          "execution_count": 5
        }
      ]
    },
    {
      "cell_type": "code",
      "source": [
        "from array import array # importing array from array module\n",
        "a= array('i',[4,5,6,7]) # initializing array\n",
        "a.insert(1,2) # inserting element: 2 at index: 1\n",
        "a # Printing array a\n",
        "array('i', [4, 2, 5, 6, 7])\n",
        "a.insert(-1,0) # insert element: 0 at index: -1\n",
        "a\n",
        "a.insert(10, -1) # insert element: -1 at index: 10, this is out of range\n",
        "a\n",
        "array('i', [4, 2, 5, 6, 0, 7, -1])"
      ],
      "metadata": {
        "colab": {
          "base_uri": "https://localhost:8080/"
        },
        "id": "eYgH5MXI1ZN5",
        "outputId": "b11fbabc-278e-44f6-b229-8acd39aa1bad"
      },
      "execution_count": null,
      "outputs": [
        {
          "output_type": "execute_result",
          "data": {
            "text/plain": [
              "array('i', [4, 2, 5, 6, 0, 7, -1])"
            ]
          },
          "metadata": {},
          "execution_count": 4
        }
      ]
    },
    {
      "cell_type": "code",
      "source": [
        "#Example 3\n",
        "# Node Class\n",
        "class Node:\n",
        "  #Function to initialize the node object\n",
        "  def __init__(self,data):\n",
        "    self.data = data #Assign Data\n",
        "    self.next = None #initialize\n",
        "      #next as null\n",
        "# Linked List class\n",
        "class LinkedList:\n",
        "  #Funtion to intitialize the Linked\n",
        "  #List Object\n",
        "  def __init__(self):\n",
        "    self.head = None"
      ],
      "metadata": {
        "id": "GSeUTHDt1VPa"
      },
      "execution_count": null,
      "outputs": []
    },
    {
      "cell_type": "code",
      "execution_count": null,
      "metadata": {
        "colab": {
          "base_uri": "https://localhost:8080/"
        },
        "id": "TOlX3zCD01Q7",
        "outputId": "34487f65-1020-4a8c-88b1-0a11f2fececc"
      },
      "outputs": [
        {
          "output_type": "stream",
          "name": "stdout",
          "text": [
            "1\n",
            "2\n",
            "3\n"
          ]
        }
      ],
      "source": [
        "#Singly LinkedList\n",
        "#A simple Python program to introduce a linked list\n",
        "\n",
        "#Node class\n",
        "class Node:\n",
        "  #Funtion to intitialize th node object\n",
        "  def __init__(self,data):\n",
        "    self.data = data #Assign data\n",
        "    self.next = None #Initialize next as null\n",
        "\n",
        "#Linked List class contains a Node object\n",
        "class LinkedList:\n",
        "\n",
        "  #Function o initialize head\n",
        "  def __init__(self):\n",
        "    self.head = None\n",
        "\n",
        "  def printlist(self):\n",
        "    temp = self.head\n",
        "\n",
        "    while(temp):\n",
        "      print(temp.data)\n",
        "      temp = temp.next\n",
        "\n",
        "#Code execution starts here\n",
        "if __name__=='__main__':\n",
        "\n",
        "  #Starts with the emptylist\n",
        "  llist = LinkedList()\n",
        "  llist.head = Node(1)\n",
        "  second = Node(2)\n",
        "  third = Node(3)\n",
        "\n",
        "  llist.head.next = second; #Link first node with second node\n",
        "  second.next = third; #Link second node with the third node\n",
        "\n",
        "\n",
        "llist.printlist()"
      ]
    },
    {
      "cell_type": "code",
      "source": [
        "#A simple Python program to introduce a linked list\n",
        "\n",
        "#Node class\n",
        "class Node:\n",
        "  #Funtion to intitialize th node object\n",
        "  def __init__(self,data):\n",
        "    self.data = data #Assign data\n",
        "    self.next = None #Initialize next as null\n",
        "    self.prev = None #Initialize prev as null\n",
        "\n",
        "#Linked List class contains a Node object\n",
        "class DoublyLinkedList:\n",
        "\n",
        "  #Function to initialize head\n",
        "  def __init__(self):\n",
        "    self.head = None\n",
        "    self.tail = None\n",
        "\n",
        "  #Function to print forward\n",
        "  def forward(self):\n",
        "    temp = self.head\n",
        "    while(temp):\n",
        "      print(temp.data)\n",
        "      temp = temp.next\n",
        "\n",
        "  #Function to print backward\n",
        "  def backward(self):\n",
        "    temp = self.tail\n",
        "    while(temp):\n",
        "      print(temp.data)\n",
        "      temp = temp.prev\n",
        "\n",
        "#Code execution starts here\n",
        "if __name__=='__main__':\n",
        "\n",
        "  #Starts with the emptylist\n",
        "    dllist = DoublyLinkedList()\n",
        "\n",
        "    dllist.head = Node(1)\n",
        "    second = Node(2)\n",
        "    dllist.tail = Node(3)\n",
        "\n",
        "    dllist.head.next = second;\n",
        "    second.next = dllist.tail.prev;\n",
        "    dllist.tail.prev = second;\n",
        "    second.prev = dllist.head;\n",
        "\n",
        "dllist.forward()\n",
        "dllist.backward()"
      ],
      "metadata": {
        "colab": {
          "base_uri": "https://localhost:8080/"
        },
        "id": "v0DTrb0pFnz4",
        "outputId": "c92c059c-ccef-4b7f-dec9-c7e6961bc6d9"
      },
      "execution_count": 24,
      "outputs": [
        {
          "output_type": "stream",
          "name": "stdout",
          "text": [
            "1\n",
            "2\n",
            "3\n",
            "2\n",
            "1\n"
          ]
        }
      ]
    }
  ]
}