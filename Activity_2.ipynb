{
  "nbformat": 4,
  "nbformat_minor": 0,
  "metadata": {
    "colab": {
      "provenance": [],
      "authorship_tag": "ABX9TyOQZ67MbyCO9KK0AEUuGz9m",
      "include_colab_link": true
    },
    "kernelspec": {
      "name": "python3",
      "display_name": "Python 3"
    },
    "language_info": {
      "name": "python"
    }
  },
  "cells": [
    {
      "cell_type": "markdown",
      "metadata": {
        "id": "view-in-github",
        "colab_type": "text"
      },
      "source": [
        "<a href=\"https://colab.research.google.com/github/Mendoza-JM/58009-DSAA/blob/main/Activity_2.ipynb\" target=\"_parent\"><img src=\"https://colab.research.google.com/assets/colab-badge.svg\" alt=\"Open In Colab\"/></a>"
      ]
    },
    {
      "cell_type": "code",
      "execution_count": 28,
      "metadata": {
        "colab": {
          "base_uri": "https://localhost:8080/"
        },
        "id": "WCPAWzzYYFyz",
        "outputId": "22b54ab1-f4a7-47e9-b81d-f8e11aced780"
      },
      "outputs": [
        {
          "output_type": "stream",
          "name": "stdout",
          "text": [
            "Prime Numbers Less Than 20:\n",
            "2 3 5 7 11 13 17 19 \n",
            "Head: 2\n",
            "Tail: 19\n"
          ]
        }
      ],
      "source": [
        "#Python program to create a singly linked list of prime numbers from 2-20\n",
        "class Node:\n",
        "  def __init__(self,data):\n",
        "    self.data = data\n",
        "    self.next = None\n",
        "\n",
        "def primenum(num):\n",
        "    if num < 2:\n",
        "        return False\n",
        "    for i in range(2, int(num**0.5) + 1):\n",
        "        if num % i == 0:\n",
        "            return False\n",
        "    return True\n",
        "\n",
        "def create_prime_list():\n",
        "    prime_list = None\n",
        "    for num in range(2, 20):\n",
        "        if primenum(num):\n",
        "            new_node = Node(num)\n",
        "            if prime_list is None:\n",
        "                prime_list = new_node\n",
        "                tail = new_node\n",
        "            else:\n",
        "                tail.next = new_node\n",
        "                tail = new_node\n",
        "    return prime_list\n",
        "\n",
        "def display_prime_list(prime_list):\n",
        "    current = prime_list\n",
        "    while current:\n",
        "        print(current.data, end=' ')\n",
        "        current = current.next\n",
        "    print()\n",
        "    if prime_list:\n",
        "        print(\"Head:\", prime_list.data)\n",
        "        tail = prime_list\n",
        "        while tail.next:\n",
        "            tail = tail.next\n",
        "        print(\"Tail:\", tail.data)\n",
        "    else:\n",
        "        print(\"The list is empty.\")\n",
        "\n",
        "# Main program\n",
        "if __name__ == '__main__':\n",
        "    prime_list = create_prime_list()\n",
        "    print(\"Prime Numbers Less Than 20:\")\n",
        "    display_prime_list(prime_list)"
      ]
    }
  ]
}