{
  "nbformat": 4,
  "nbformat_minor": 0,
  "metadata": {
    "colab": {
      "provenance": [],
      "authorship_tag": "ABX9TyPZt8937Dw5dk7D/5MWK18N",
      "include_colab_link": true
    },
    "kernelspec": {
      "name": "python3",
      "display_name": "Python 3"
    },
    "language_info": {
      "name": "python"
    }
  },
  "cells": [
    {
      "cell_type": "markdown",
      "metadata": {
        "id": "view-in-github",
        "colab_type": "text"
      },
      "source": [
        "<a href=\"https://colab.research.google.com/github/Mendoza-JM/58009-DSAA/blob/main/Activity_4.ipynb\" target=\"_parent\"><img src=\"https://colab.research.google.com/assets/colab-badge.svg\" alt=\"Open In Colab\"/></a>"
      ]
    },
    {
      "cell_type": "code",
      "execution_count": 1,
      "metadata": {
        "colab": {
          "base_uri": "https://localhost:8080/"
        },
        "id": "bm4EIJBS1ryh",
        "outputId": "a2498459-f54a-4e70-b3e4-53df335af226"
      },
      "outputs": [
        {
          "output_type": "stream",
          "name": "stdout",
          "text": [
            "Cards in Deck:\n",
            "8 of Diamonds\n",
            "8 of Hearts\n",
            "6 of Hearts\n",
            "9 of Diamonds\n",
            "6 of Hearts\n",
            "10 of Clubs\n",
            "1 of Clubs\n",
            "10 of Diamonds\n",
            "1 of Diamonds\n",
            "1 of Hearts\n",
            "3 of Clubs\n",
            "10 of Spades\n",
            "3 of Hearts\n",
            "10 of Hearts\n",
            "8 of Hearts\n",
            "6 of Clubs\n",
            "10 of Diamonds\n",
            "10 of Diamonds\n",
            "3 of Hearts\n",
            "3 of Clubs\n",
            "\n",
            "Hand 1:\n",
            "8 of Diamonds\n",
            "8 of Hearts\n",
            "6 of Hearts\n",
            "9 of Diamonds\n",
            "6 of Hearts\n",
            "\n",
            "Hand 2:\n",
            "10 of Clubs\n",
            "1 of Clubs\n",
            "10 of Diamonds\n",
            "1 of Diamonds\n",
            "1 of Hearts\n",
            "\n",
            "Cards left in Deck:\n",
            "3 of Clubs\n",
            "10 of Spades\n",
            "3 of Hearts\n",
            "10 of Hearts\n",
            "8 of Hearts\n",
            "6 of Clubs\n",
            "10 of Diamonds\n",
            "10 of Diamonds\n",
            "3 of Hearts\n",
            "3 of Clubs\n"
          ]
        }
      ],
      "source": [
        "#random deck & Hand generator\n",
        "import random\n",
        "import queue\n",
        "\n",
        "def create_queue():\n",
        "    card_queue = queue.Queue()\n",
        "\n",
        "    card_list = [\"Spades\", \"Diamonds\", \"Clubs\", \"Hearts\"]\n",
        "    deck = []\n",
        "\n",
        "    for i in range(1, 21):\n",
        "        card_num = random.randint(1, 10)\n",
        "        random_card_list = random.choice(card_list)\n",
        "        card = f\"{card_num} of {random_card_list}\"\n",
        "        card_queue.put(card)\n",
        "        deck.append(card)\n",
        "\n",
        "    return card_queue, deck\n",
        "\n",
        "def draw_cards(card_queue, num_cards):\n",
        "    drawn_cards = []\n",
        "    for i in range(num_cards):\n",
        "        if not card_queue.empty():\n",
        "            card = card_queue.get()\n",
        "            drawn_cards.append(card)\n",
        "        else:\n",
        "            print(\"The deck is empty.\")\n",
        "            break\n",
        "    return drawn_cards\n",
        "\n",
        "if __name__ == \"__main__\":\n",
        "    my_queue, deck = create_queue()\n",
        "\n",
        "    print(\"Cards in Deck:\")\n",
        "    for card in deck:\n",
        "        print(card)\n",
        "\n",
        "    print(\"\\nHand 1:\")\n",
        "    hand1 = draw_cards(my_queue, 5)\n",
        "    for card in hand1:\n",
        "        print(card)\n",
        "\n",
        "    print(\"\\nHand 2:\")\n",
        "    hand2 = draw_cards(my_queue, 5)\n",
        "    for card in hand2:\n",
        "        print(card)\n",
        "\n",
        "    print(\"\\nCards left in Deck:\")\n",
        "    while not my_queue.empty():\n",
        "        card = my_queue.get()\n",
        "        print(card)\n"
      ]
    }
  ]
}