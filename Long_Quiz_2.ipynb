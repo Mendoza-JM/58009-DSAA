{
  "nbformat": 4,
  "nbformat_minor": 0,
  "metadata": {
    "colab": {
      "provenance": [],
      "authorship_tag": "ABX9TyNr9un1HQA1VC5JMlJxn8rX",
      "include_colab_link": true
    },
    "kernelspec": {
      "name": "python3",
      "display_name": "Python 3"
    },
    "language_info": {
      "name": "python"
    }
  },
  "cells": [
    {
      "cell_type": "markdown",
      "metadata": {
        "id": "view-in-github",
        "colab_type": "text"
      },
      "source": [
        "<a href=\"https://colab.research.google.com/github/Mendoza-JM/58009-DSAA/blob/main/Long_Quiz_2.ipynb\" target=\"_parent\"><img src=\"https://colab.research.google.com/assets/colab-badge.svg\" alt=\"Open In Colab\"/></a>"
      ]
    },
    {
      "cell_type": "code",
      "execution_count": 7,
      "metadata": {
        "colab": {
          "base_uri": "https://localhost:8080/"
        },
        "id": "LWjIvUv4lK96",
        "outputId": "264b7c93-b4f4-471e-8cd4-704dd9e304b2"
      },
      "outputs": [
        {
          "output_type": "stream",
          "name": "stdout",
          "text": [
            "The Vertices are:\n",
            "['E', 'F', 'H', 'I', 'J', 'K', 'M', 'P']\n",
            "The Edges are:\n",
            "[{'E', 'I'}, {'E', 'J'}, {'E', 'K'}, {'E', 'M'}, {'I', 'F'}, {'J', 'F'}, {'K', 'F'}, {'P', 'F'}, {'H', 'I'}, {'J', 'H'}, {'H', 'K'}]\n"
          ]
        }
      ],
      "source": [
        "class graph:\n",
        "  def __init__(self,gdict=None):\n",
        "    if gdict is None:\n",
        "        gdict = {}\n",
        "    self.gdict = gdict\n",
        "\n",
        "  def getVertices(self):\n",
        "          return list(self.gdict.keys())\n",
        "\n",
        "  def edges(self):\n",
        "    return self.findedges()\n",
        "\n",
        "  def findedges(self):\n",
        "    edgename = []\n",
        "    for vrtx in self.gdict:\n",
        "       for nxtvrtx in self.gdict[vrtx]:\n",
        "          if {nxtvrtx, vrtx} not in edgename:\n",
        "             edgename.append({vrtx, nxtvrtx})\n",
        "    return edgename\n",
        "\n",
        "graph_elements = {\n",
        "   \"E\" : [\"I\",\"J\",\"K\",\"M\"],\n",
        "   \"F\" : [\"I\",\"J\",\"K\",\"P\"],\n",
        "   \"H\" : [\"I\",\"J\",\"K\"],\n",
        "   \"I\" : [\"E\",\"F\",\"H\"],\n",
        "   \"J\" : [\"E\",\"F\",\"H\"],\n",
        "   \"K\" : [\"E\",\"F\",\"H\"],\n",
        "   \"M\" : [\"E\"],\n",
        "   \"P\" : [\"F\"]\n",
        "}\n",
        "g = graph(graph_elements)\n",
        "print(\"The Vertices are:\")\n",
        "print(g.getVertices())\n",
        "print(\"The Edges are:\")\n",
        "print(g.edges())"
      ]
    }
  ]
}