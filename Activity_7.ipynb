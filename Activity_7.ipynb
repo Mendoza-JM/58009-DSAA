{
  "nbformat": 4,
  "nbformat_minor": 0,
  "metadata": {
    "colab": {
      "provenance": [],
      "authorship_tag": "ABX9TyNbpotg+Xnj/cxFNPVZPDC/",
      "include_colab_link": true
    },
    "kernelspec": {
      "name": "python3",
      "display_name": "Python 3"
    },
    "language_info": {
      "name": "python"
    }
  },
  "cells": [
    {
      "cell_type": "markdown",
      "metadata": {
        "id": "view-in-github",
        "colab_type": "text"
      },
      "source": [
        "<a href=\"https://colab.research.google.com/github/Mendoza-JM/58009-DSAA/blob/main/Activity_7.ipynb\" target=\"_parent\"><img src=\"https://colab.research.google.com/assets/colab-badge.svg\" alt=\"Open In Colab\"/></a>"
      ]
    },
    {
      "cell_type": "code",
      "execution_count": 1,
      "metadata": {
        "colab": {
          "base_uri": "https://localhost:8080/"
        },
        "id": "1-2zu4xYLlod",
        "outputId": "53e4abd8-e4f0-4047-8c65-319aba86e98a"
      },
      "outputs": [
        {
          "output_type": "stream",
          "name": "stdout",
          "text": [
            "[{'a', 'b'}, {'c', 'a'}, {'d', 'b'}, {'c', 'd'}, {'d', 'e'}]\n"
          ]
        }
      ],
      "source": [
        "#Display Graph Edges\n",
        "\n",
        "class graph:\n",
        "   def __init__(self,gdict=None):\n",
        "      if gdict is None:\n",
        "         gdict = {}\n",
        "      self.gdict = gdict\n",
        "\n",
        "   def edges(self):\n",
        "      return self.findedges()\n",
        "# Find the distinct list of edges\n",
        "   def findedges(self):\n",
        "      edgename = []\n",
        "      for vrtx in self.gdict:\n",
        "         for nxtvrtx in self.gdict[vrtx]:\n",
        "            if {nxtvrtx, vrtx} not in edgename:\n",
        "               edgename.append({vrtx, nxtvrtx})\n",
        "      return edgename\n",
        "# Create the dictionary with graph elements\n",
        "graph_elements = {\n",
        "   \"a\" : [\"b\",\"c\"],\n",
        "   \"b\" : [\"a\", \"d\"],\n",
        "   \"c\" : [\"a\", \"d\"],\n",
        "   \"d\" : [\"e\"],\n",
        "   \"e\" : [\"d\"]\n",
        "}\n",
        "g = graph(graph_elements)\n",
        "print(g.edges())"
      ]
    },
    {
      "cell_type": "code",
      "source": [
        "#Display Graph Vertices\n",
        "\n",
        "class graph:\n",
        "   def __init__(self,gdict=None):\n",
        "      if gdict is None:\n",
        "         gdict = []\n",
        "      self.gdict = gdict\n",
        "# Get the keys of the dictionary\n",
        "   def getVertices(self):\n",
        "      return list(self.gdict.keys())\n",
        "# Create the dictionary with graph elements\n",
        "graph_elements = {\n",
        "   \"a\" : [\"b\",\"c\"],\n",
        "   \"b\" : [\"a\", \"d\"],\n",
        "   \"c\" : [\"a\", \"d\"],\n",
        "   \"d\" : [\"e\"],\n",
        "   \"e\" : [\"d\"]\n",
        "}\n",
        "g = graph(graph_elements)\n",
        "print(g.getVertices())"
      ],
      "metadata": {
        "colab": {
          "base_uri": "https://localhost:8080/"
        },
        "id": "ZxGek527L-Bu",
        "outputId": "00ac199f-304c-40bf-c133-4fd0dd361ec8"
      },
      "execution_count": 2,
      "outputs": [
        {
          "output_type": "stream",
          "name": "stdout",
          "text": [
            "['a', 'b', 'c', 'd', 'e']\n"
          ]
        }
      ]
    },
    {
      "cell_type": "code",
      "source": [
        "#Display Graph Edges\n",
        "\n",
        "class graph:\n",
        "   def __init__(self,gdict=None):\n",
        "      if gdict is None:\n",
        "         gdict = {}\n",
        "      self.gdict = gdict\n",
        "\n",
        "   def edges(self):\n",
        "      return self.findedges()\n",
        "# Find the distinct list of edges\n",
        "   def findedges(self):\n",
        "      edgename = []\n",
        "      for vrtx in self.gdict:\n",
        "         for nxtvrtx in self.gdict[vrtx]:\n",
        "            if {nxtvrtx, vrtx} not in edgename:\n",
        "               edgename.append({vrtx, nxtvrtx})\n",
        "      return edgename\n",
        "# Create the dictionary with graph elements\n",
        "graph_elements = {\n",
        "   1 : [2,3,5,6],\n",
        "   2 : [1,3,4,5,6],\n",
        "   3 : [1,2,4,5],\n",
        "   4 : [2,3],\n",
        "   5 : [1,2,3],\n",
        "   6 : [1,2]\n",
        "}\n",
        "g = graph(graph_elements)\n",
        "print(g.edges())"
      ],
      "metadata": {
        "colab": {
          "base_uri": "https://localhost:8080/"
        },
        "id": "OZIc6r3nM3eN",
        "outputId": "065d05bf-12c2-4503-83c9-06b2db3ce5b6"
      },
      "execution_count": 12,
      "outputs": [
        {
          "output_type": "stream",
          "name": "stdout",
          "text": [
            "[{1, 2}, {1, 3}, {1, 5}, {1, 6}, {2, 3}, {2, 4}, {2, 5}, {2, 6}, {3, 4}, {3, 5}]\n"
          ]
        }
      ]
    },
    {
      "cell_type": "code",
      "source": [
        "#Display Graph Vertices\n",
        "\n",
        "class graph:\n",
        "   def __init__(self,gdict=None):\n",
        "      if gdict is None:\n",
        "         gdict = []\n",
        "      self.gdict = gdict\n",
        "# Get the keys of the dictionary\n",
        "   def getVertices(self):\n",
        "      return list(self.gdict.keys())\n",
        "# Create the dictionary with graph elements\n",
        "graph_elements = {\n",
        "   1 : [2,3,5,6],\n",
        "   2 : [1,3,4,5,6],\n",
        "   3 : [1,2,4,5],\n",
        "   4 : [2,3],\n",
        "   5 : [1,2,3],\n",
        "   6 : [1,2]\n",
        "}\n",
        "g = graph(graph_elements)\n",
        "print(g.getVertices())"
      ],
      "metadata": {
        "colab": {
          "base_uri": "https://localhost:8080/"
        },
        "id": "LMBAah7kWHTl",
        "outputId": "c7fb052c-c081-4f7f-f16a-72c72c9289e7"
      },
      "execution_count": 13,
      "outputs": [
        {
          "output_type": "stream",
          "name": "stdout",
          "text": [
            "[1, 2, 3, 4, 5, 6]\n"
          ]
        }
      ]
    }
  ]
}