{
  "nbformat": 4,
  "nbformat_minor": 0,
  "metadata": {
    "colab": {
      "provenance": [],
      "authorship_tag": "ABX9TyNukHvV+iEyB7EL46Mj16dG",
      "include_colab_link": true
    },
    "kernelspec": {
      "name": "python3",
      "display_name": "Python 3"
    },
    "language_info": {
      "name": "python"
    }
  },
  "cells": [
    {
      "cell_type": "markdown",
      "metadata": {
        "id": "view-in-github",
        "colab_type": "text"
      },
      "source": [
        "<a href=\"https://colab.research.google.com/github/Mendoza-JM/58009-DSAA/blob/main/midterm_exam.ipynb\" target=\"_parent\"><img src=\"https://colab.research.google.com/assets/colab-badge.svg\" alt=\"Open In Colab\"/></a>"
      ]
    },
    {
      "cell_type": "code",
      "execution_count": 2,
      "metadata": {
        "colab": {
          "base_uri": "https://localhost:8080/"
        },
        "id": "Cb2zFYm6IHmp",
        "outputId": "b8f8aa80-a829-4705-c4d0-1bf29220a732"
      },
      "outputs": [
        {
          "output_type": "stream",
          "name": "stdout",
          "text": [
            "[{'B', 'A'}, {'E', 'B'}, {'C', 'B'}, {'F', 'B'}, {'E', 'C'}, {'C', 'F'}, {'C', 'D'}, {'D', 'b'}, {'c', 'D'}, {'N', 'E'}, {'G', 'F'}, {'I', 'F'}, {'F'}, {'G', 'I'}, {'G'}, {'C', 'I'}, {'I', 'J'}, {'I', 'K'}, {'K', 'J'}, {'G', 'J'}, {'D', 'K'}, {'P', 'L'}, {'M', 'L'}, {'D', 'L'}, {'C', 'M'}, {'N', 'M'}, {'O', 'M'}, {'P', 'M'}, {'N', 'O'}, {'O', 'P'}]\n"
          ]
        }
      ],
      "source": [
        "#Display Graph Edges\n",
        "\n",
        "class graph:\n",
        "   def __init__(self,gdict=None):\n",
        "      if gdict is None:\n",
        "         gdict = {}\n",
        "      self.gdict = gdict\n",
        "\n",
        "   def edges(self):\n",
        "      return self.findedges()\n",
        "\n",
        "   def findedges(self):\n",
        "      edgename = []\n",
        "      for vrtx in self.gdict:\n",
        "         for nxtvrtx in self.gdict[vrtx]:\n",
        "            if {nxtvrtx, vrtx} not in edgename:\n",
        "               edgename.append({vrtx, nxtvrtx})\n",
        "      return edgename\n",
        "\n",
        "graph_elements = {\n",
        "   \"A\" : [\"B\"],\n",
        "   \"B\" : [\"E\",\"C\",\"F\"],\n",
        "   \"C\" : [\"E\",\"B\",\"F\", \"D\"],\n",
        "   \"D\" : [\"b\",\"c\"],\n",
        "   \"E\" : [\"N\",\"B\",\"C\"],\n",
        "   \"F\" : [\"G\",\"I\",\"F\",\"B\",\"C\"],\n",
        "   \"G\" : [\"F\",\"I\",\"G\"],\n",
        "   \"I\" : [\"F\",\"C\",\"G\",\"J\",\"K\"],\n",
        "   \"J\" : [\"K\",\"I\",\"G\"],\n",
        "   \"K\" : [\"D\",\"I\",\"J\"],\n",
        "   \"L\" : [\"P\",\"M\",\"D\"],\n",
        "   \"M\" : [\"C\",\"L\",\"N\",\"O\",\"P\"],\n",
        "   \"N\" : [\"E\",\"M\",\"O\"],\n",
        "   \"O\" : [\"N\",\"M\",\"P\"],\n",
        "   \"P\" : [\"O\",\"M\",\"L\"]\n",
        "}\n",
        "g = graph(graph_elements)\n",
        "print(g.edges())"
      ]
    },
    {
      "cell_type": "code",
      "source": [
        "#Display Graph Vertices\n",
        "\n",
        "class graph:\n",
        "   def __init__(self,gdict=None):\n",
        "      if gdict is None:\n",
        "         gdict = []\n",
        "      self.gdict = gdict\n",
        "# Get the keys of the dictionary\n",
        "   def getVertices(self):\n",
        "      return list(self.gdict.keys())\n",
        "# Create the dictionary with graph elements\n",
        "graph_elements = {\n",
        "   \"A\" : [\"B\"],\n",
        "   \"B\" : [\"E\",\"C\",\"F\"],\n",
        "   \"C\" : [\"E\",\"B\",\"F\", \"D\"],\n",
        "   \"D\" : [\"b\",\"c\"],\n",
        "   \"E\" : [\"N\",\"B\",\"C\"],\n",
        "   \"F\" : [\"G\",\"I\",\"F\",\"B\",\"C\"],\n",
        "   \"G\" : [\"F\",\"I\",\"G\"],\n",
        "   \"I\" : [\"F\",\"C\",\"G\",\"J\",\"K\"],\n",
        "   \"J\" : [\"K\",\"I\",\"G\"],\n",
        "   \"K\" : [\"D\",\"I\",\"J\"],\n",
        "   \"L\" : [\"P\",\"M\",\"D\"],\n",
        "   \"M\" : [\"C\",\"L\",\"N\",\"O\",\"P\"],\n",
        "   \"N\" : [\"E\",\"M\",\"O\"],\n",
        "   \"O\" : [\"N\",\"M\",\"P\"],\n",
        "   \"P\" : [\"O\",\"M\",\"L\"]\n",
        "}\n",
        "g = graph(graph_elements)\n",
        "print(g.getVertices())"
      ],
      "metadata": {
        "colab": {
          "base_uri": "https://localhost:8080/"
        },
        "id": "gA8qtQf0PobM",
        "outputId": "4306042c-0436-45ec-84ee-06c9268d612e"
      },
      "execution_count": 3,
      "outputs": [
        {
          "output_type": "stream",
          "name": "stdout",
          "text": [
            "['A', 'B', 'C', 'D', 'E', 'F', 'G', 'I', 'J', 'K', 'L', 'M', 'N', 'O', 'P']\n"
          ]
        }
      ]
    }
  ]
}